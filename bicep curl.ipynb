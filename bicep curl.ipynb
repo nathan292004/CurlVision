{
 "cells": [
  {
   "cell_type": "code",
   "execution_count": 1,
   "id": "a8a71491",
   "metadata": {},
   "outputs": [
    {
     "name": "stderr",
     "output_type": "stream",
     "text": [
      "C:\\Users\\rsent\\anaconda3\\Anaconda\\lib\\site-packages\\google\\protobuf\\symbol_database.py:55: UserWarning: SymbolDatabase.GetPrototype() is deprecated. Please use message_factory.GetMessageClass() instead. SymbolDatabase.GetPrototype() will be removed soon.\n",
      "  warnings.warn('SymbolDatabase.GetPrototype() is deprecated. Please '\n"
     ]
    },
    {
     "name": "stdout",
     "output_type": "stream",
     "text": [
      "Curls: 1\n",
      "Curls: 2\n",
      "Curls: 3\n",
      "Curls: 4\n",
      "Curls: 5\n",
      "Curls: 6\n",
      "Curls: 7\n"
     ]
    }
   ],
   "source": [
    "import cv2\n",
    "import mediapipe as mp\n",
    "import numpy as np\n",
    "import math\n",
    "\n",
    "mp_hands = mp.solutions.hands\n",
    "hands = mp_hands.Hands()\n",
    "mp_draw = mp.solutions.drawing_utils\n",
    "\n",
    "mp_pose = mp.solutions.pose\n",
    "pose = mp_pose.Pose()\n",
    "\n",
    "\n",
    "counter = 0\n",
    "stage = None  \n",
    "\n",
    "def calculate_angle(a, b, c):\n",
    "    a = np.array(a)  \n",
    "    b = np.array(b)  \n",
    "    c = np.array(c)  \n",
    "\n",
    "    radians = np.arctan2(c[1] - b[1], c[0] - b[0]) - np.arctan2(a[1] - b[1], a[0] - b[0])\n",
    "    angle = np.abs(radians * 180.0 / np.pi)\n",
    "\n",
    "    if angle > 180.0:\n",
    "        angle = 360 - angle\n",
    "\n",
    "    return angle\n",
    "\n",
    "cap = cv2.VideoCapture(0)\n",
    "while cap.isOpened():\n",
    "    ret, frame = cap.read()\n",
    "\n",
    "    if not ret:\n",
    "        print(\"Error\")\n",
    "        break\n",
    "\n",
    "    frame_rgb = cv2.cvtColor(frame, cv2.COLOR_BGR2RGB)\n",
    "\n",
    "    \n",
    "    hand_results = hands.process(frame_rgb)\n",
    "    pose_results = pose.process(frame_rgb)\n",
    "\n",
    "    \n",
    "    if hand_results.multi_hand_landmarks:\n",
    "        for hand_landmarks in hand_results.multi_hand_landmarks:\n",
    "            mp_draw.draw_landmarks(frame, hand_landmarks, mp_hands.HAND_CONNECTIONS)\n",
    "\n",
    "    \n",
    "    if pose_results.pose_landmarks:\n",
    "        mp_draw.draw_landmarks(frame, pose_results.pose_landmarks, mp_pose.POSE_CONNECTIONS)\n",
    "\n",
    "       \n",
    "        shoulder = [pose_results.pose_landmarks.landmark[mp_pose.PoseLandmark.RIGHT_SHOULDER].x,\n",
    "                    pose_results.pose_landmarks.landmark[mp_pose.PoseLandmark.RIGHT_SHOULDER].y]\n",
    "        elbow = [pose_results.pose_landmarks.landmark[mp_pose.PoseLandmark.RIGHT_ELBOW].x,\n",
    "                 pose_results.pose_landmarks.landmark[mp_pose.PoseLandmark.RIGHT_ELBOW].y]\n",
    "        wrist = [pose_results.pose_landmarks.landmark[mp_pose.PoseLandmark.RIGHT_WRIST].x,\n",
    "                 pose_results.pose_landmarks.landmark[mp_pose.PoseLandmark.RIGHT_WRIST].y]\n",
    "\n",
    "        \n",
    "        angle = calculate_angle(shoulder, elbow, wrist)\n",
    "\n",
    "        \n",
    "        cv2.putText(frame, str(int(angle)),\n",
    "                    tuple(np.multiply(elbow, [640, 480]).astype(int)),\n",
    "                    cv2.FONT_HERSHEY_SIMPLEX, 1, (255, 255, 255), 2, cv2.LINE_AA)\n",
    "\n",
    "        \n",
    "        if angle > 160:\n",
    "            stage = \"down\"\n",
    "        if angle < 30 and stage == 'down':\n",
    "            stage = \"up\"\n",
    "            counter += 1\n",
    "            print(f\"Curls: {counter}\")\n",
    "\n",
    "        \n",
    "        cv2.putText(frame, f'Curls: {counter}', (10, 50),\n",
    "                    cv2.FONT_HERSHEY_SIMPLEX, 1, (0, 255, 0), 2, cv2.LINE_AA)\n",
    "\n",
    "    cv2.imshow('FEin', frame)\n",
    "    if cv2.waitKey(10) & 0xff == ord('q'):\n",
    "        break\n",
    "\n",
    "cap.release()\n",
    "cv2.destroyAllWindows()\n"
   ]
  },
  {
   "cell_type": "code",
   "execution_count": null,
   "id": "9c2a4055",
   "metadata": {},
   "outputs": [],
   "source": []
  },
  {
   "cell_type": "code",
   "execution_count": null,
   "id": "c20e05dd",
   "metadata": {},
   "outputs": [],
   "source": []
  },
  {
   "cell_type": "code",
   "execution_count": 22,
   "id": "5eec2a4e",
   "metadata": {},
   "outputs": [],
   "source": [
    "\n",
    "    \n",
    "    "
   ]
  },
  {
   "cell_type": "code",
   "execution_count": null,
   "id": "9bf0bbff",
   "metadata": {},
   "outputs": [],
   "source": []
  }
 ],
 "metadata": {
  "kernelspec": {
   "display_name": "Python 3 (ipykernel)",
   "language": "python",
   "name": "python3"
  },
  "language_info": {
   "codemirror_mode": {
    "name": "ipython",
    "version": 3
   },
   "file_extension": ".py",
   "mimetype": "text/x-python",
   "name": "python",
   "nbconvert_exporter": "python",
   "pygments_lexer": "ipython3",
   "version": "3.9.12"
  }
 },
 "nbformat": 4,
 "nbformat_minor": 5
}
